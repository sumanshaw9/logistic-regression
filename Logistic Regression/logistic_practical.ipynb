{
 "cells": [
  {
   "cell_type": "markdown",
   "id": "fcc4b2d3-e5d0-4304-abed-87b27357a284",
   "metadata": {},
   "source": [
    "# Practical"
   ]
  },
  {
   "cell_type": "markdown",
   "id": "709bb93f-9eb0-402e-9d8a-869a83529257",
   "metadata": {},
   "source": [
    "1. Write a Python program that loads a dataset, splits it into training and testing sets, applies Logistic\n",
    "Regression, and prints the model accuracy?"
   ]
  },
  {
   "cell_type": "code",
   "execution_count": 212,
   "id": "7bb0ee1d-f683-4ccc-846c-b46331cef8d0",
   "metadata": {},
   "outputs": [
    {
     "name": "stdout",
     "output_type": "stream",
     "text": [
      "Model Accuracy: 0.956140350877193\n"
     ]
    }
   ],
   "source": [
    "from sklearn.datasets import load_breast_cancer\n",
    "from sklearn.linear_model import LogisticRegression\n",
    "from sklearn.model_selection import train_test_split\n",
    "from sklearn.metrics import accuracy_score\n",
    "import warnings\n",
    "warnings.filterwarnings('ignore')\n",
    "\n",
    "data = load_breast_cancer()\n",
    "X, y = data.data, data.target\n",
    "\n",
    "X_train, X_test, y_train, y_test = train_test_split(X, y, test_size=0.2, random_state=42)\n",
    "\n",
    "model = LogisticRegression(max_iter=10000)\n",
    "model.fit(X_train, y_train)\n",
    "\n",
    "y_pred = model.predict(X_test)\n",
    "print(\"Model Accuracy:\", accuracy_score(y_test, y_pred))"
   ]
  },
  {
   "cell_type": "markdown",
   "id": "4ef8b99b-1a0f-41b1-9833-e64d186d253b",
   "metadata": {},
   "source": [
    "2. Write a Python program to apply L1 regularization (Lasso) on a dataset using LogisticRegression(penalty='l1')\n",
    "and print the model accuracy."
   ]
  },
  {
   "cell_type": "code",
   "execution_count": 214,
   "id": "573039c5-c7be-4621-9c09-9f8c69b33ff4",
   "metadata": {},
   "outputs": [
    {
     "name": "stdout",
     "output_type": "stream",
     "text": [
      "L1 Regularization Accuracy: 0.956140350877193\n"
     ]
    }
   ],
   "source": [
    "X, y = load_breast_cancer(return_X_y=True)\n",
    "X_train, X_test, y_train, y_test = train_test_split(X, y, test_size=0.2, random_state=42)\n",
    "\n",
    "model = LogisticRegression(penalty='l1', solver='liblinear', max_iter=1000)\n",
    "model.fit(X_train, y_train)\n",
    "\n",
    "print(\"L1 Regularization Accuracy:\", model.score(X_test, y_test))"
   ]
  },
  {
   "cell_type": "markdown",
   "id": "fe11436f-3997-4b25-950b-819c5361ec09",
   "metadata": {},
   "source": [
    "3. Write a Python program to train Logistic Regression with L2 regularization (Ridge) using \n",
    "LogisticRegression(penalty='l2'). Print model accuracy and coefficients. "
   ]
  },
  {
   "cell_type": "code",
   "execution_count": 216,
   "id": "919683cd-9d4a-4491-9a52-7a3988f1d75d",
   "metadata": {},
   "outputs": [
    {
     "name": "stdout",
     "output_type": "stream",
     "text": [
      "L2 Regularization Accuracy: 0.956140350877193\n",
      "Model Coefficients: [[ 2.13220398e+00  1.52854917e-01 -1.44719212e-01 -8.52215000e-04\n",
      "  -1.42686931e-01 -4.15394871e-01 -6.51920768e-01 -3.44598086e-01\n",
      "  -2.07627730e-01 -2.97417539e-02 -5.00936444e-02  1.44279470e+00\n",
      "  -3.03712911e-01 -7.25876772e-02 -1.61761752e-02 -1.71242126e-03\n",
      "  -4.46869255e-02 -3.77266602e-02 -4.17267188e-02  5.64025218e-03\n",
      "   1.23136500e+00 -4.04624058e-01 -3.63847830e-02 -2.70675727e-02\n",
      "  -2.62748236e-01 -1.20825103e+00 -1.61753207e+00 -6.15413911e-01\n",
      "  -7.42888821e-01 -1.16866740e-01]]\n"
     ]
    }
   ],
   "source": [
    "model = LogisticRegression(penalty='l2', solver='liblinear', max_iter=1000)\n",
    "model.fit(X_train, y_train)\n",
    "\n",
    "print(\"L2 Regularization Accuracy:\", model.score(X_test, y_test))\n",
    "print(\"Model Coefficients:\", model.coef_)"
   ]
  },
  {
   "cell_type": "markdown",
   "id": "cf2a7309-3ed3-49f3-ad06-b20512e7418b",
   "metadata": {},
   "source": [
    "4. Write a Python program to train Logistic Regression with Elastic Net Regularization (penalty='elasticnet')."
   ]
  },
  {
   "cell_type": "code",
   "execution_count": 218,
   "id": "b0b3f82c-4881-49b1-a287-28c8074a3f47",
   "metadata": {},
   "outputs": [
    {
     "name": "stdout",
     "output_type": "stream",
     "text": [
      "Elastic Net Regularization Accuracy: 0.9736842105263158\n"
     ]
    }
   ],
   "source": [
    "model = LogisticRegression(penalty='elasticnet', solver='saga', l1_ratio=0.5, max_iter=10000)\n",
    "model.fit(X_train, y_train)\n",
    "\n",
    "print(\"Elastic Net Regularization Accuracy:\", model.score(X_test, y_test))"
   ]
  },
  {
   "cell_type": "markdown",
   "id": "cec01f85-9af8-4656-bccd-73c6e47bd96a",
   "metadata": {},
   "source": [
    "5. Write a Python program to train a Logistic Regression model for multiclass classification using \n",
    "multi_class='ovr'."
   ]
  },
  {
   "cell_type": "code",
   "execution_count": 220,
   "id": "378687e0-5e2f-4666-ba4f-25b74575bde5",
   "metadata": {},
   "outputs": [
    {
     "name": "stdout",
     "output_type": "stream",
     "text": [
      "Multiclass OVR Accuracy: 1.0\n"
     ]
    }
   ],
   "source": [
    "from sklearn.datasets import load_iris\n",
    "\n",
    "X, y = load_iris(return_X_y=True)\n",
    "X_train, X_test, y_train, y_test = train_test_split(X, y, test_size=0.2, random_state=42)\n",
    "\n",
    "model = LogisticRegression(multi_class='ovr', solver='liblinear')\n",
    "model.fit(X_train, y_train)\n",
    "\n",
    "print(\"Multiclass OVR Accuracy:\", model.score(X_test, y_test))"
   ]
  },
  {
   "cell_type": "markdown",
   "id": "f41d02a5-ce1f-4222-94cb-2cee8634a80b",
   "metadata": {},
   "source": [
    "6. Write a Python program to apply GridSearchCV to tune the hyperparameters (C and penalty) of Logistic  Regression. Print the best parameters and accuracy."
   ]
  },
  {
   "cell_type": "code",
   "execution_count": 222,
   "id": "472a6e34-b1bb-4776-a6a6-dab10c76035a",
   "metadata": {},
   "outputs": [
    {
     "name": "stdout",
     "output_type": "stream",
     "text": [
      "Best Parameters: {'C': 10, 'penalty': 'l1', 'solver': 'liblinear'}\n",
      "Best Accuracy: 0.9583333333333334\n"
     ]
    }
   ],
   "source": [
    "from sklearn.model_selection import GridSearchCV\n",
    "\n",
    "param_grid = {\n",
    "    'C': [0.1, 1, 10],\n",
    "    'penalty': ['l1', 'l2'],\n",
    "    'solver': ['liblinear']\n",
    "}\n",
    "\n",
    "grid = GridSearchCV(LogisticRegression(max_iter=1000), param_grid, cv=5)\n",
    "grid.fit(X_train, y_train)\n",
    "\n",
    "print(\"Best Parameters:\", grid.best_params_)\n",
    "print(\"Best Accuracy:\", grid.best_score_)"
   ]
  },
  {
   "cell_type": "markdown",
   "id": "6f11602a-338c-4938-89cc-27008030819e",
   "metadata": {},
   "source": [
    "7. Write a Python program to evaluate Logistic Regression using Stratified K-Fold Cross-Validation. Print the average accuracy."
   ]
  },
  {
   "cell_type": "code",
   "execution_count": 224,
   "id": "6b5e2fd3-17ff-4274-96b3-db551c572b25",
   "metadata": {},
   "outputs": [
    {
     "name": "stdout",
     "output_type": "stream",
     "text": [
      "Stratified K-Fold Average Accuracy: 0.9733333333333334\n"
     ]
    }
   ],
   "source": [
    "from sklearn.model_selection import StratifiedKFold, cross_val_score\n",
    "\n",
    "skf = StratifiedKFold(n_splits=5)\n",
    "model = LogisticRegression(max_iter=1000)\n",
    "\n",
    "scores = cross_val_score(model, X, y, cv=skf)\n",
    "print(\"Stratified K-Fold Average Accuracy:\", scores.mean())"
   ]
  },
  {
   "cell_type": "markdown",
   "id": "d930780a-ba52-4f90-a1d7-2ce5d20fad81",
   "metadata": {},
   "source": [
    "8. Write a Python program to load a dataset from a CSV file, apply Logistic Regression, and evaluate its \n",
    "accuracy."
   ]
  },
  {
   "cell_type": "code",
   "execution_count": 226,
   "id": "ee1eb47c-15e9-435f-91b5-533a4e6020b7",
   "metadata": {},
   "outputs": [
    {
     "name": "stdout",
     "output_type": "stream",
     "text": [
      "Accuracy on CSV Data: 0.956140350877193\n"
     ]
    }
   ],
   "source": [
    "import pandas as pd\n",
    "\n",
    "data = load_breast_cancer()\n",
    "df = pd.DataFrame(data.data, columns=data.feature_names)\n",
    "df['target'] = data.target\n",
    "csv_filename = 'breast_cancer.csv'\n",
    "df.to_csv(csv_filename, index=False)\n",
    "\n",
    "# Replace 'your_file.csv' and columns as appropriate\n",
    "df = pd.read_csv('breast_cancer.csv')\n",
    "X = df.drop('target', axis=1)\n",
    "y = df['target']\n",
    "X_train, X_test, y_train, y_test = train_test_split(X, y, test_size=0.2, random_state=42)\n",
    "model = LogisticRegression(max_iter=1000)\n",
    "model.fit(X_train, y_train)\n",
    "print(\"Accuracy on CSV Data:\", model.score(X_test, y_test))"
   ]
  },
  {
   "cell_type": "markdown",
   "id": "44f90799-3156-4978-aadc-ad1e77b6f086",
   "metadata": {},
   "source": [
    "9. Write a Python program to apply RandomizedSearchCV for tuning hyperparameters (C, penalty, solver) in\n",
    "Logistic Regression. Print the best parameters and accuracy."
   ]
  },
  {
   "cell_type": "code",
   "execution_count": null,
   "id": "9db2ed1f-72b4-4b4b-9904-190a89ea6e9a",
   "metadata": {},
   "outputs": [],
   "source": []
  },
  {
   "cell_type": "markdown",
   "id": "769366f8-d0dd-4c3f-95f3-8120f7cfd580",
   "metadata": {},
   "source": [
    "10.  Write a Python program to implement One-vs-One (OvO) Multiclass Logistic Regression and print accuracy."
   ]
  },
  {
   "cell_type": "code",
   "execution_count": null,
   "id": "a0190554-edca-4098-9ee4-2ba2bdb3e086",
   "metadata": {},
   "outputs": [],
   "source": []
  },
  {
   "cell_type": "markdown",
   "id": "d91f190d-56c5-4422-baff-98c7be36d3c0",
   "metadata": {},
   "source": [
    "11. Write a Python program to train a Logistic Regression model and visualize the confusion matrix for binary\n",
    "classification."
   ]
  },
  {
   "cell_type": "code",
   "execution_count": 230,
   "id": "cd41a7d8-dcc0-47c5-9b5d-5137fcb5e105",
   "metadata": {},
   "outputs": [
    {
     "data": {
      "image/png": "[encoded data removed]",
      "text/plain": [
       "<Figure size 640x480 with 2 Axes>"
      ]
     },
     "metadata": {},
     "output_type": "display_data"
    }
   ],
   "source": [
    "from sklearn.metrics import confusion_matrix, ConfusionMatrixDisplay\n",
    "import matplotlib.pyplot as plt\n",
    "\n",
    "# Train model\n",
    "model = LogisticRegression(max_iter=1000)\n",
    "model.fit(X_train, y_train)\n",
    "y_pred = model.predict(X_test)\n",
    "\n",
    "# Confusion matrix\n",
    "cm = confusion_matrix(y_test, y_pred)\n",
    "disp = ConfusionMatrixDisplay(confusion_matrix=cm)\n",
    "disp.plot()\n",
    "plt.title(\"Confusion Matrix\")\n",
    "plt.show()"
   ]
  },
  {
   "cell_type": "markdown",
   "id": "6047d869-e263-4716-b716-0c959265ee28",
   "metadata": {},
   "source": [
    "12. Write a Python program to train a Logistic Regression model and evaluate its performance using Precision,\n",
    "Recall, and F1-Score."
   ]
  },
  {
   "cell_type": "code",
   "execution_count": 232,
   "id": "175d94f9-a20a-469e-9271-956119b9daaf",
   "metadata": {},
   "outputs": [
    {
     "name": "stdout",
     "output_type": "stream",
     "text": [
      "              precision    recall  f1-score   support\n",
      "\n",
      "           0       0.97      0.91      0.94        43\n",
      "           1       0.95      0.99      0.97        71\n",
      "\n",
      "    accuracy                           0.96       114\n",
      "   macro avg       0.96      0.95      0.95       114\n",
      "weighted avg       0.96      0.96      0.96       114\n",
      "\n"
     ]
    }
   ],
   "source": [
    "from sklearn.metrics import classification_report\n",
    "\n",
    "print(classification_report(y_test, y_pred))"
   ]
  },
  {
   "cell_type": "markdown",
   "id": "27fd0123-757d-44ca-ac01-976b034b0efd",
   "metadata": {},
   "source": [
    "13. Write a Python program to train a Logistic Regression model on imbalanced data and apply class weights to\n",
    "improve model performance."
   ]
  },
  {
   "cell_type": "code",
   "execution_count": 234,
   "id": "75d128ef-6be7-4c50-8e25-f0fd7bd5eea1",
   "metadata": {},
   "outputs": [
    {
     "name": "stdout",
     "output_type": "stream",
     "text": [
      "Accuracy (with class_weight='balanced'): 0.9649122807017544\n"
     ]
    }
   ],
   "source": [
    "model = LogisticRegression(class_weight='balanced', max_iter=1000)\n",
    "model.fit(X_train, y_train)\n",
    "print(\"Accuracy (with class_weight='balanced'):\", model.score(X_test, y_test))"
   ]
  },
  {
   "cell_type": "markdown",
   "id": "861268a0-e8be-40c3-874b-522c1c8de7c6",
   "metadata": {},
   "source": [
    "14. Write a Python program to train Logistic Regression on the Titanic dataset, handle missing values, and\n",
    "evaluate performance."
   ]
  },
  {
   "cell_type": "code",
   "execution_count": 236,
   "id": "632264ac-f32c-4097-94ee-e5bd8d8f29a8",
   "metadata": {},
   "outputs": [
    {
     "name": "stdout",
     "output_type": "stream",
     "text": [
      "Titanic Accuracy: 0.7865168539325843\n"
     ]
    }
   ],
   "source": [
    "import seaborn as sns\n",
    "df = sns.load_dataset('titanic')\n",
    "\n",
    "df['age'].fillna(df['age'].median(), inplace=True)\n",
    "df.dropna(subset=['embarked'], inplace=True)\n",
    "df['sex'] = df['sex'].map({'male': 0, 'female': 1})\n",
    "df['embarked'] = df['embarked'].map({'S': 0, 'C': 1, 'Q': 2})\n",
    "\n",
    "X = df[['pclass', 'sex', 'age', 'sibsp', 'parch', 'fare', 'embarked']]\n",
    "y = df['survived']\n",
    "\n",
    "X_train, X_test, y_train, y_test = train_test_split(X, y, test_size=0.2, random_state=42)\n",
    "model = LogisticRegression(max_iter=1000)\n",
    "model.fit(X_train, y_train)\n",
    "print(\"Titanic Accuracy:\", model.score(X_test, y_test))"
   ]
  },
  {
   "cell_type": "markdown",
   "id": "348cc31d-ddd0-4071-ad5a-7de24ae57274",
   "metadata": {},
   "source": [
    "15. Write a Python program to apply feature scaling (Standardization) before training a Logistic Regression\n",
    "model. Evaluate its accuracy and compare results with and without scaling."
   ]
  },
  {
   "cell_type": "code",
   "execution_count": 238,
   "id": "3c6b8bbb-4f73-453a-8db1-6687495d869d",
   "metadata": {},
   "outputs": [
    {
     "name": "stdout",
     "output_type": "stream",
     "text": [
      "Accuracy without scaling: 0.7865168539325843\n",
      "Accuracy with scaling: 0.7808988764044944\n"
     ]
    }
   ],
   "source": [
    "from sklearn.preprocessing import StandardScaler\n",
    "\n",
    "# Without scaling\n",
    "model = LogisticRegression(max_iter=1000)\n",
    "model.fit(X_train, y_train)\n",
    "print(\"Accuracy without scaling:\", model.score(X_test, y_test))\n",
    "\n",
    "# With scaling\n",
    "scaler = StandardScaler()\n",
    "X_train_scaled = scaler.fit_transform(X_train)\n",
    "X_test_scaled = scaler.transform(X_test)\n",
    "\n",
    "model_scaled = LogisticRegression(max_iter=1000)\n",
    "model_scaled.fit(X_train_scaled, y_train)\n",
    "print(\"Accuracy with scaling:\", model_scaled.score(X_test_scaled, y_test))"
   ]
  },
  {
   "cell_type": "markdown",
   "id": "03178125-d51d-4cd1-8915-c0d184cba99b",
   "metadata": {},
   "source": [
    "16. Write a Python program to train Logistic Regression and evaluate its performance using ROC-AUC score."
   ]
  },
  {
   "cell_type": "code",
   "execution_count": 240,
   "id": "8c246e9c-88f2-4b4a-97f5-8b8541e1627f",
   "metadata": {},
   "outputs": [
    {
     "name": "stdout",
     "output_type": "stream",
     "text": [
      "ROC-AUC Score: 0.85301156761069\n"
     ]
    }
   ],
   "source": [
    "from sklearn.metrics import roc_auc_score\n",
    "\n",
    "y_proba = model.predict_proba(X_test)[:, 1]\n",
    "print(\"ROC-AUC Score:\", roc_auc_score(y_test, y_proba))"
   ]
  },
  {
   "cell_type": "markdown",
   "id": "2b4aee8f-159f-4fd6-bcd9-35a023bd7d7a",
   "metadata": {},
   "source": [
    "17. Write a Python program to train Logistic Regression using a custom learning rate (C=0.5) and evaluate\n",
    "accuracy."
   ]
  },
  {
   "cell_type": "code",
   "execution_count": 242,
   "id": "dbf09999-a785-47ad-886a-13c4e48abcb9",
   "metadata": {},
   "outputs": [
    {
     "name": "stdout",
     "output_type": "stream",
     "text": [
      "Accuracy with C=0.5: 0.7921348314606742\n"
     ]
    }
   ],
   "source": [
    "model = LogisticRegression(C=0.5, max_iter=1000)\n",
    "model.fit(X_train, y_train)\n",
    "print(\"Accuracy with C=0.5:\", model.score(X_test, y_test))"
   ]
  },
  {
   "cell_type": "markdown",
   "id": "0d740d17-beba-492e-ad42-17ac4b17e64f",
   "metadata": {},
   "source": [
    "18. Write a Python program to train Logistic Regression and identify important features based on model\n",
    "coefficients."
   ]
  },
  {
   "cell_type": "code",
   "execution_count": 244,
   "id": "66c8e342-fde8-4a42-a643-03cfd5bcd798",
   "metadata": {},
   "outputs": [
    {
     "name": "stdout",
     "output_type": "stream",
     "text": [
      "pclass: -1.1033\n",
      "sex: 2.4947\n",
      "age: -0.0425\n",
      "sibsp: -0.3690\n",
      "parch: -0.0366\n",
      "fare: 0.0023\n",
      "embarked: 0.2847\n"
     ]
    }
   ],
   "source": [
    "importance = model.coef_[0]\n",
    "for i, col in enumerate(X.columns):\n",
    "    print(f\"{col}: {importance[i]:.4f}\")"
   ]
  },
  {
   "cell_type": "markdown",
   "id": "755034b3-7582-497f-abc6-d98133f37c1b",
   "metadata": {},
   "source": [
    "19. Write a Python program to train Logistic Regression and evaluate its performance using Cohen’s Kappa\n",
    "Score."
   ]
  },
  {
   "cell_type": "code",
   "execution_count": 251,
   "id": "72049828-bf68-483b-a1a3-b457e045dc71",
   "metadata": {},
   "outputs": [
    {
     "name": "stdout",
     "output_type": "stream",
     "text": [
      "Cohen’s Kappa Score: 0.5573877764690485\n"
     ]
    }
   ],
   "source": [
    "from sklearn.linear_model import LogisticRegression\n",
    "from sklearn.metrics import cohen_kappa_score\n",
    "\n",
    "model = LogisticRegression(max_iter=1000)\n",
    "model.fit(X_train, y_train)\n",
    "\n",
    "# Make predictions\n",
    "y_pred = model.predict(X_test)\n",
    "\n",
    "#Cohen's Kappa Score\n",
    "score = cohen_kappa_score(y_test, y_pred)\n",
    "print(\"Cohen’s Kappa Score:\", score)"
   ]
  },
  {
   "cell_type": "markdown",
   "id": "5caf1e50-e1c9-4203-a445-f2965dd2039f",
   "metadata": {},
   "source": [
    "20. Write a Python program to train Logistic Regression and visualize the Precision-Recall Curve for binary\n",
    "classification."
   ]
  },
  {
   "cell_type": "code",
   "execution_count": 254,
   "id": "eb7a2a11-7a7b-4ca9-85a1-9efd91f350c5",
   "metadata": {},
   "outputs": [
    {
     "data": {
      "image/png": "[encoded data removed]",
      "text/plain": [
       "<Figure size 640x480 with 1 Axes>"
      ]
     },
     "metadata": {},
     "output_type": "display_data"
    }
   ],
   "source": [
    "from sklearn.metrics import precision_recall_curve, PrecisionRecallDisplay\n",
    "\n",
    "precision, recall, _ = precision_recall_curve(y_test, y_proba)\n",
    "disp = PrecisionRecallDisplay(precision=precision, recall=recall)\n",
    "disp.plot()\n",
    "plt.title(\"Precision-Recall Curve\")\n",
    "plt.show()"
   ]
  },
  {
   "cell_type": "markdown",
   "id": "8807de04-c703-4050-b392-8d8ff7ce9751",
   "metadata": {},
   "source": [
    "21. Write a Python program to train Logistic Regression with different solvers (liblinear, saga, lbfgs) and compare\n",
    "their accuracy."
   ]
  },
  {
   "cell_type": "code",
   "execution_count": 258,
   "id": "fb355f13-3d60-4e33-a927-4bdf981b0e5a",
   "metadata": {},
   "outputs": [
    {
     "name": "stdout",
     "output_type": "stream",
     "text": [
      "liblinear accuracy: 0.7753\n",
      "saga accuracy: 0.7584\n",
      "lbfgs accuracy: 0.7865\n"
     ]
    }
   ],
   "source": [
    "solvers = ['liblinear', 'saga', 'lbfgs']\n",
    "for solver in solvers:\n",
    "    model = LogisticRegression(solver=solver, max_iter=1000)\n",
    "    model.fit(X_train, y_train)\n",
    "    acc = model.score(X_test, y_test)\n",
    "    print(f\"{solver} accuracy: {acc:.4f}\")"
   ]
  },
  {
   "cell_type": "markdown",
   "id": "e8042328-85df-4733-a869-7486be7fe0f6",
   "metadata": {},
   "source": [
    "22. Write a Python program to train Logistic Regression and evaluate its performance using Matthews\n",
    "Correlation Coefficient (MCC)."
   ]
  },
  {
   "cell_type": "code",
   "execution_count": 260,
   "id": "03dcd1c0-f99e-4f02-a624-8dbde70e69b2",
   "metadata": {},
   "outputs": [
    {
     "name": "stdout",
     "output_type": "stream",
     "text": [
      "Matthews Correlation Coefficient: 0.5587539440521506\n"
     ]
    }
   ],
   "source": [
    "from sklearn.metrics import matthews_corrcoef\n",
    "print(\"Matthews Correlation Coefficient:\", matthews_corrcoef(y_test, y_pred))"
   ]
  },
  {
   "cell_type": "markdown",
   "id": "df938efe-6d93-435d-bb75-34c4b0444c79",
   "metadata": {},
   "source": [
    "23.  Write a Python program to train Logistic Regression on both raw and standardized data. Compare their\n",
    "accuracy to see the impact of feature scaling."
   ]
  },
  {
   "cell_type": "code",
   "execution_count": 262,
   "id": "64921a8c-9f11-483e-b1fb-a34f3c7da144",
   "metadata": {},
   "outputs": [
    {
     "name": "stdout",
     "output_type": "stream",
     "text": [
      "Accuracy without scaling: 0.7865168539325843\n",
      "Accuracy with scaling: 0.7808988764044944\n"
     ]
    }
   ],
   "source": [
    "from sklearn.preprocessing import StandardScaler\n",
    "\n",
    "# Without scaling\n",
    "model = LogisticRegression(max_iter=1000)\n",
    "model.fit(X_train, y_train)\n",
    "print(\"Accuracy without scaling:\", model.score(X_test, y_test))\n",
    "\n",
    "# With scaling\n",
    "scaler = StandardScaler()\n",
    "X_train_scaled = scaler.fit_transform(X_train)\n",
    "X_test_scaled = scaler.transform(X_test)\n",
    "\n",
    "model_scaled = LogisticRegression(max_iter=1000)\n",
    "model_scaled.fit(X_train_scaled, y_train)\n",
    "print(\"Accuracy with scaling:\", model_scaled.score(X_test_scaled, y_test))"
   ]
  },
  {
   "cell_type": "markdown",
   "id": "9d42ac7b-9759-449d-aab9-dfc6dae5bf9c",
   "metadata": {},
   "source": [
    "24. Write a Python program to train Logistic Regression and find the optimal C (regularization strength) using\n",
    "cross-validation."
   ]
  },
  {
   "cell_type": "code",
   "execution_count": 264,
   "id": "e755eef2-0783-4a4c-80bb-791f533e216c",
   "metadata": {},
   "outputs": [
    {
     "name": "stdout",
     "output_type": "stream",
     "text": [
      "Best C: 0.1\n",
      "Best Cross-Validated Accuracy: 0.8072490889392299\n"
     ]
    }
   ],
   "source": [
    "from sklearn.model_selection import GridSearchCV\n",
    "param_grid = {'C': [0.01, 0.1, 1, 10, 100]}\n",
    "grid = GridSearchCV(LogisticRegression(max_iter=1000), param_grid, cv=5)\n",
    "grid.fit(X_train, y_train)\n",
    "\n",
    "print(\"Best C:\", grid.best_params_['C'])\n",
    "print(\"Best Cross-Validated Accuracy:\", grid.best_score_)"
   ]
  },
  {
   "cell_type": "markdown",
   "id": "abca8ff7-a344-471d-a5cb-81895395d439",
   "metadata": {},
   "source": [
    "25. Write a Python program to train Logistic Regression, save the trained model using joblib, and load it again to\n",
    "make predictions."
   ]
  },
  {
   "cell_type": "code",
   "execution_count": 266,
   "id": "98990c99-0f2e-4dbd-8833-cc023531ed9a",
   "metadata": {},
   "outputs": [
    {
     "name": "stdout",
     "output_type": "stream",
     "text": [
      "Loaded model accuracy: 0.7865168539325843\n"
     ]
    }
   ],
   "source": [
    "import joblib\n",
    "\n",
    "# Save model\n",
    "joblib.dump(model, 'logreg_model.pkl')\n",
    "\n",
    "# Load model\n",
    "loaded_model = joblib.load('logreg_model.pkl')\n",
    "print(\"Loaded model accuracy:\", loaded_model.score(X_test, y_test))"
   ]
  }
 ],
 "metadata": {
  "kernelspec": {
   "display_name": "Python [conda env:base] *",
   "language": "python",
   "name": "conda-base-py"
  },
  "language_info": {
   "codemirror_mode": {
    "name": "ipython",
    "version": 3
   },
   "file_extension": ".py",
   "mimetype": "text/x-python",
   "name": "python",
   "nbconvert_exporter": "python",
   "pygments_lexer": "ipython3",
   "version": "3.12.7"
  }
 },
 "nbformat": 4,
 "nbformat_minor": 5
}
